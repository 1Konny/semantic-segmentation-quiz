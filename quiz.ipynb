{
 "cells": [
  {
   "cell_type": "markdown",
   "metadata": {},
   "source": [
    "# Semantic Segmentation Quiz\n",
    "\n",
    "### Maintainer : Wonkwang Lee (wonkwang.lee@kaist.ac.kr)"
   ]
  },
  {
   "cell_type": "code",
   "execution_count": 1,
   "metadata": {},
   "outputs": [],
   "source": [
    "import tensorflow as tf\n",
    "from tensorflow.keras import datasets, layers, models\n",
    "\n",
    "sess = tf.InteractiveSession()\n",
    "x = tf.placeholder(tf.float32, shape=(1, 224, 224, 3))\n",
    "label = tf.broadcast_to(tf.expand_dims(tf.expand_dims(tf.one_hot(1, 21), -1), -1), (1, 21, 224, 224))"
   ]
  },
  {
   "cell_type": "markdown",
   "metadata": {},
   "source": [
    "# Quiz 1: Building toy FCN blocks\n",
    "\n",
    "![FCN](http://deeplearning.net/tutorial/_images/cat_segmentation.png)\n",
    "\n",
    "\n",
    "## Instruction:\n",
    "Build toy FCN blocks using `models.Sequential()`, `layers.Conv2D`, `layers.Maxpooling2D`, `layer.UpSampling2D`. <br>\n",
    "Please refer to the printed output for `fcn.summary()`\n",
    "\n",
    "#### hint1 : https://www.tensorflow.org/beta/tutorials/images/intro_to_cnns\n",
    "#### hint2 : https://keras.io/layers/convolutional/#conv2d\n",
    "#### hint3 : https://keras.io/layers/pooling/#maxpooling2d\n",
    "#### hint4 : https://keras.io/layers/convolutional/#upsampling2d"
   ]
  },
  {
   "cell_type": "code",
   "execution_count": 2,
   "metadata": {},
   "outputs": [],
   "source": [
    "def FCN():\n",
    "    model = models.Sequential()\n",
    "    model.add(layers.Conv2D(96, (3, 3), activation='relu', padding='same', input_shape=(224, 224, 3)))\n",
    "    ''' implement remaining modules here '''\n",
    "    #model.add(...)\n",
    "    return model"
   ]
  },
  {
   "cell_type": "code",
   "execution_count": 3,
   "metadata": {},
   "outputs": [
    {
     "name": "stdout",
     "output_type": "stream",
     "text": [
      "_________________________________________________________________\n",
      "Layer (type)                 Output Shape              Param #   \n",
      "=================================================================\n",
      "conv2d (Conv2D)              (None, 224, 224, 96)      2688      \n",
      "_________________________________________________________________\n",
      "max_pooling2d (MaxPooling2D) (None, 112, 112, 96)      0         \n",
      "_________________________________________________________________\n",
      "conv2d_1 (Conv2D)            (None, 112, 112, 256)     221440    \n",
      "_________________________________________________________________\n",
      "max_pooling2d_1 (MaxPooling2 (None, 56, 56, 256)       0         \n",
      "_________________________________________________________________\n",
      "conv2d_2 (Conv2D)            (None, 56, 56, 384)       885120    \n",
      "_________________________________________________________________\n",
      "conv2d_3 (Conv2D)            (None, 56, 56, 384)       1327488   \n",
      "_________________________________________________________________\n",
      "conv2d_4 (Conv2D)            (None, 56, 56, 256)       884992    \n",
      "_________________________________________________________________\n",
      "max_pooling2d_2 (MaxPooling2 (None, 28, 28, 256)       0         \n",
      "_________________________________________________________________\n",
      "conv2d_5 (Conv2D)            (None, 28, 28, 4096)      9441280   \n",
      "_________________________________________________________________\n",
      "conv2d_6 (Conv2D)            (None, 28, 28, 4096)      150999040 \n",
      "_________________________________________________________________\n",
      "conv2d_7 (Conv2D)            (None, 28, 28, 21)        774165    \n",
      "_________________________________________________________________\n",
      "up_sampling2d (UpSampling2D) (None, 224, 224, 21)      0         \n",
      "=================================================================\n",
      "Total params: 164,536,213\n",
      "Trainable params: 164,536,213\n",
      "Non-trainable params: 0\n",
      "_________________________________________________________________\n"
     ]
    }
   ],
   "source": [
    "fcn = FCN()\n",
    "fcn.summary()"
   ]
  },
  {
   "cell_type": "code",
   "execution_count": 4,
   "metadata": {},
   "outputs": [
    {
     "name": "stdout",
     "output_type": "stream",
     "text": [
      "(1, 224, 224, 3)\n"
     ]
    }
   ],
   "source": [
    "print(x.shape)"
   ]
  },
  {
   "cell_type": "code",
   "execution_count": 5,
   "metadata": {},
   "outputs": [
    {
     "data": {
      "text/plain": [
       "<tf.Tensor 'sequential/up_sampling2d/ResizeNearestNeighbor:0' shape=(1, 224, 224, 21) dtype=float32>"
      ]
     },
     "execution_count": 5,
     "metadata": {},
     "output_type": "execute_result"
    }
   ],
   "source": [
    "prediction = fcn(x)\n",
    "prediction"
   ]
  },
  {
   "cell_type": "markdown",
   "metadata": {},
   "source": [
    "---"
   ]
  },
  {
   "cell_type": "markdown",
   "metadata": {},
   "source": [
    "# Quiz 2: Preprocess data to calculate cross-entropy loss\n",
    "\n",
    "\n",
    "#### hint1 : https://www.tensorflow.org/api_docs/python/tf/losses/softmax_cross_entropy\n",
    "#### hint2 : https://www.tensorflow.org/api_docs/python/tf/transpose"
   ]
  },
  {
   "cell_type": "code",
   "execution_count": 6,
   "metadata": {},
   "outputs": [],
   "source": [
    "def preprocess_label(label):\n",
    "    ''' write down proper pre-processing operation here'''\n",
    "    #label = ...\n",
    "    return label\n",
    "\n",
    "def calculate_loss(prediction, label):\n",
    "    loss = tf.losses.softmax_cross_entropy(label, prediction)\n",
    "    return loss"
   ]
  },
  {
   "cell_type": "code",
   "execution_count": 7,
   "metadata": {},
   "outputs": [
    {
     "name": "stdout",
     "output_type": "stream",
     "text": [
      "prediction shape : (1, 224, 224, 21)\n",
      "label shape : (1, 21, 224, 224)\n"
     ]
    }
   ],
   "source": [
    "print('prediction shape :', prediction.shape)\n",
    "print('label shape :', label.shape)"
   ]
  },
  {
   "cell_type": "code",
   "execution_count": 8,
   "metadata": {},
   "outputs": [],
   "source": [
    "label = preprocess_label(label)\n",
    "# print('label shape :', label.shape)"
   ]
  },
  {
   "cell_type": "code",
   "execution_count": 9,
   "metadata": {},
   "outputs": [
    {
     "data": {
      "text/plain": [
       "<tf.Tensor 'softmax_cross_entropy_loss/value:0' shape=() dtype=float32>"
      ]
     },
     "execution_count": 9,
     "metadata": {},
     "output_type": "execute_result"
    }
   ],
   "source": [
    "loss = calculate_loss(prediction, label)\n",
    "loss"
   ]
  },
  {
   "cell_type": "markdown",
   "metadata": {},
   "source": [
    "---"
   ]
  },
  {
   "cell_type": "markdown",
   "metadata": {},
   "source": [
    "# Quiz 3: Building toy DeconvNet\n",
    "\n",
    "![deconvnet](https://miro.medium.com/max/1400/1*LW8Anre45o9nfamxIVTY8Q.png)\n",
    "\n",
    "## Instruction:\n",
    "Build toy DeconvNet blocks using `models.Sequential()`, `layers.Conv2D`, `layers.Maxpooling2D`, `layer.Conv2DTranspose`. <br>\n",
    "Please refer to the printed output for `deconvnet.summary()` <br>\n",
    "<br>\n",
    "Note: we use `layer.Conv2DTranspose` for upsampling feature maps instead of un-pooling operation"
   ]
  },
  {
   "cell_type": "code",
   "execution_count": 10,
   "metadata": {},
   "outputs": [],
   "source": [
    "def DeconvNet():\n",
    "    model = models.Sequential()\n",
    "    model.add(layers.Conv2D(32, (3, 3), activation='relu', padding='same', input_shape=(224, 224, 3)))\n",
    "    ''' implement remaining modules here '''\n",
    "    #model.add(...)\n",
    "    return model"
   ]
  },
  {
   "cell_type": "code",
   "execution_count": 11,
   "metadata": {},
   "outputs": [
    {
     "name": "stdout",
     "output_type": "stream",
     "text": [
      "_________________________________________________________________\n",
      "Layer (type)                 Output Shape              Param #   \n",
      "=================================================================\n",
      "conv2d_8 (Conv2D)            (None, 224, 224, 32)      896       \n",
      "_________________________________________________________________\n",
      "max_pooling2d_3 (MaxPooling2 (None, 112, 112, 32)      0         \n",
      "_________________________________________________________________\n",
      "conv2d_9 (Conv2D)            (None, 112, 112, 64)      18496     \n",
      "_________________________________________________________________\n",
      "max_pooling2d_4 (MaxPooling2 (None, 56, 56, 64)        0         \n",
      "_________________________________________________________________\n",
      "conv2d_10 (Conv2D)           (None, 56, 56, 128)       73856     \n",
      "_________________________________________________________________\n",
      "max_pooling2d_5 (MaxPooling2 (None, 28, 28, 128)       0         \n",
      "_________________________________________________________________\n",
      "conv2d_11 (Conv2D)           (None, 28, 28, 256)       295168    \n",
      "_________________________________________________________________\n",
      "max_pooling2d_6 (MaxPooling2 (None, 14, 14, 256)       0         \n",
      "_________________________________________________________________\n",
      "conv2d_12 (Conv2D)           (None, 14, 14, 512)       1180160   \n",
      "_________________________________________________________________\n",
      "max_pooling2d_7 (MaxPooling2 (None, 7, 7, 512)         0         \n",
      "_________________________________________________________________\n",
      "conv2d_transpose (Conv2DTran (None, 14, 14, 512)       2359808   \n",
      "_________________________________________________________________\n",
      "conv2d_transpose_1 (Conv2DTr (None, 28, 28, 256)       1179904   \n",
      "_________________________________________________________________\n",
      "conv2d_transpose_2 (Conv2DTr (None, 56, 56, 128)       295040    \n",
      "_________________________________________________________________\n",
      "conv2d_transpose_3 (Conv2DTr (None, 112, 112, 64)      73792     \n",
      "_________________________________________________________________\n",
      "conv2d_transpose_4 (Conv2DTr (None, 224, 224, 21)      12117     \n",
      "=================================================================\n",
      "Total params: 5,489,237\n",
      "Trainable params: 5,489,237\n",
      "Non-trainable params: 0\n",
      "_________________________________________________________________\n"
     ]
    }
   ],
   "source": [
    "deconvnet = DeconvNet()\n",
    "deconvnet.summary()"
   ]
  },
  {
   "cell_type": "code",
   "execution_count": 12,
   "metadata": {},
   "outputs": [
    {
     "data": {
      "text/plain": [
       "<tf.Tensor 'sequential_1/conv2d_transpose_4/Relu:0' shape=(1, 224, 224, 21) dtype=float32>"
      ]
     },
     "execution_count": 12,
     "metadata": {},
     "output_type": "execute_result"
    }
   ],
   "source": [
    "prediction = deconvnet(x)\n",
    "prediction"
   ]
  },
  {
   "cell_type": "markdown",
   "metadata": {},
   "source": [
    "---"
   ]
  },
  {
   "cell_type": "markdown",
   "metadata": {},
   "source": [
    "# Quiz 4 : Feature Pyramid\n",
    "\n",
    "<img src=\"toy_fpn.png\" width=\"600\">\n",
    "\n",
    "## Instruction\n",
    "Implement `upsample_and_merge` function\n",
    "\n",
    "#### hint1 : https://www.tensorflow.org/api_docs/python/tf/concat"
   ]
  },
  {
   "cell_type": "code",
   "execution_count": 13,
   "metadata": {},
   "outputs": [],
   "source": [
    "conv_block1 = models.Sequential()\n",
    "conv_block1.add(layers.Conv2D(32, (3, 3), activation='relu', padding='same', input_shape=(224, 224, 3)))\n",
    "conv_block1.add(layers.MaxPool2D((2,2)))\n",
    "\n",
    "conv_block2 = models.Sequential()\n",
    "conv_block2.add(layers.Conv2D(64, (3, 3), activation='relu', padding='same'))\n",
    "conv_block2.add(layers.MaxPool2D((2,2)))"
   ]
  },
  {
   "cell_type": "code",
   "execution_count": 14,
   "metadata": {},
   "outputs": [
    {
     "data": {
      "text/plain": [
       "<tf.Tensor 'sequential_2/max_pooling2d_8/MaxPool:0' shape=(1, 112, 112, 32) dtype=float32>"
      ]
     },
     "execution_count": 14,
     "metadata": {},
     "output_type": "execute_result"
    }
   ],
   "source": [
    "out1 = conv_block1(x)\n",
    "out1"
   ]
  },
  {
   "cell_type": "code",
   "execution_count": 15,
   "metadata": {},
   "outputs": [
    {
     "data": {
      "text/plain": [
       "<tf.Tensor 'sequential_3/MaxPool:0' shape=(1, 56, 56, 64) dtype=float32>"
      ]
     },
     "execution_count": 15,
     "metadata": {},
     "output_type": "execute_result"
    }
   ],
   "source": [
    "out2 = conv_block2(out1)\n",
    "out2"
   ]
  },
  {
   "cell_type": "code",
   "execution_count": 16,
   "metadata": {},
   "outputs": [],
   "source": [
    "def upsample_and_merge(small, large):\n",
    "    '''write down codes here'''\n",
    "    # merged = ...\n",
    "    return merged"
   ]
  },
  {
   "cell_type": "code",
   "execution_count": 17,
   "metadata": {},
   "outputs": [
    {
     "data": {
      "text/plain": [
       "<tf.Tensor 'concat:0' shape=(1, 112, 112, 96) dtype=float32>"
      ]
     },
     "execution_count": 17,
     "metadata": {},
     "output_type": "execute_result"
    }
   ],
   "source": [
    "upsample_and_merge(out2, out1)"
   ]
  },
  {
   "cell_type": "markdown",
   "metadata": {},
   "source": [
    "---"
   ]
  },
  {
   "cell_type": "markdown",
   "metadata": {},
   "source": [
    "# Quiz 5 : Building blocks with atrous convolution\n",
    "\n",
    "![fcn_atrous](fcn_atrous.png)\n",
    "#### hint1 : https://keras.io/layers/convolutional/#conv2d"
   ]
  },
  {
   "cell_type": "code",
   "execution_count": 18,
   "metadata": {},
   "outputs": [],
   "source": [
    "def Conv_Atrous():\n",
    "    model = models.Sequential()\n",
    "    ''' implement remaining modules here. note that the last four modules should be atrous convs'''\n",
    "    model.add(layers.Conv2D(32, (3, 3), activation='relu', padding='same', input_shape=(224, 224, 3)))\n",
    "    #model.add(...)\n",
    "    #...\n",
    "    # add atrous convolution with rate 2\n",
    "    #model.add(...)\n",
    "    # add atrous convolution with rate 4\n",
    "    #model.add(...)\n",
    "    # add atrous convolution with rate 8\n",
    "    #model.add(...)\n",
    "    # add atrous convolution with rate 16\n",
    "    #model.add(...)\n",
    "    return model"
   ]
  },
  {
   "cell_type": "code",
   "execution_count": 19,
   "metadata": {},
   "outputs": [
    {
     "name": "stdout",
     "output_type": "stream",
     "text": [
      "_________________________________________________________________\n",
      "Layer (type)                 Output Shape              Param #   \n",
      "=================================================================\n",
      "conv2d_15 (Conv2D)           (None, 224, 224, 32)      896       \n",
      "_________________________________________________________________\n",
      "max_pooling2d_10 (MaxPooling (None, 112, 112, 32)      0         \n",
      "_________________________________________________________________\n",
      "conv2d_16 (Conv2D)           (None, 112, 112, 64)      18496     \n",
      "_________________________________________________________________\n",
      "max_pooling2d_11 (MaxPooling (None, 56, 56, 64)        0         \n",
      "_________________________________________________________________\n",
      "conv2d_17 (Conv2D)           (None, 56, 56, 128)       73856     \n",
      "_________________________________________________________________\n",
      "max_pooling2d_12 (MaxPooling (None, 28, 28, 128)       0         \n",
      "_________________________________________________________________\n",
      "conv2d_18 (Conv2D)           (None, 28, 28, 256)       295168    \n",
      "_________________________________________________________________\n",
      "max_pooling2d_13 (MaxPooling (None, 14, 14, 256)       0         \n",
      "_________________________________________________________________\n",
      "conv2d_19 (Conv2D)           (None, 14, 14, 512)       1180160   \n",
      "_________________________________________________________________\n",
      "max_pooling2d_14 (MaxPooling (None, 7, 7, 512)         0         \n",
      "_________________________________________________________________\n",
      "conv2d_20 (Conv2D)           (None, 7, 7, 512)         2359808   \n",
      "_________________________________________________________________\n",
      "conv2d_21 (Conv2D)           (None, 7, 7, 512)         2359808   \n",
      "_________________________________________________________________\n",
      "conv2d_22 (Conv2D)           (None, 7, 7, 512)         2359808   \n",
      "_________________________________________________________________\n",
      "conv2d_23 (Conv2D)           (None, 7, 7, 512)         2359808   \n",
      "=================================================================\n",
      "Total params: 11,007,808\n",
      "Trainable params: 11,007,808\n",
      "Non-trainable params: 0\n",
      "_________________________________________________________________\n"
     ]
    }
   ],
   "source": [
    "conv_atrous = Conv_Atrous()\n",
    "conv_atrous.summary()"
   ]
  },
  {
   "cell_type": "markdown",
   "metadata": {},
   "source": [
    "---"
   ]
  },
  {
   "cell_type": "markdown",
   "metadata": {},
   "source": [
    "# Quiz 6 : Building toy DeepLab\n",
    "\n",
    "![aspp](aspp.png)\n",
    "\n",
    "## Instruction\n",
    "Complete ``DeepLab_Front`, conv_with_dilation_rate2`, `conv_with_dilation_rate4`, `conv_with_dilation_rate8`, `conv_with_dilation_rate16`, and `aspp`, where `aspp` is simply computed by concatenating all the `feature_map_rateX`"
   ]
  },
  {
   "cell_type": "code",
   "execution_count": 20,
   "metadata": {},
   "outputs": [],
   "source": [
    "def DeepLab_Front():\n",
    "    model = models.Sequential()\n",
    "    model.add(layers.Conv2D(32, (3, 3), activation='relu', padding='same', input_shape=(224, 224, 3)))\n",
    "    ''' implement remaining modules here '''\n",
    "    #model.add(...)\n",
    "    return model"
   ]
  },
  {
   "cell_type": "code",
   "execution_count": 21,
   "metadata": {},
   "outputs": [
    {
     "name": "stdout",
     "output_type": "stream",
     "text": [
      "_________________________________________________________________\n",
      "Layer (type)                 Output Shape              Param #   \n",
      "=================================================================\n",
      "conv2d_24 (Conv2D)           (None, 224, 224, 32)      896       \n",
      "_________________________________________________________________\n",
      "max_pooling2d_15 (MaxPooling (None, 112, 112, 32)      0         \n",
      "_________________________________________________________________\n",
      "conv2d_25 (Conv2D)           (None, 112, 112, 64)      18496     \n",
      "_________________________________________________________________\n",
      "max_pooling2d_16 (MaxPooling (None, 56, 56, 64)        0         \n",
      "_________________________________________________________________\n",
      "conv2d_26 (Conv2D)           (None, 56, 56, 128)       73856     \n",
      "_________________________________________________________________\n",
      "max_pooling2d_17 (MaxPooling (None, 28, 28, 128)       0         \n",
      "_________________________________________________________________\n",
      "conv2d_27 (Conv2D)           (None, 28, 28, 256)       295168    \n",
      "_________________________________________________________________\n",
      "max_pooling2d_18 (MaxPooling (None, 14, 14, 256)       0         \n",
      "_________________________________________________________________\n",
      "conv2d_28 (Conv2D)           (None, 14, 14, 512)       1180160   \n",
      "=================================================================\n",
      "Total params: 1,568,576\n",
      "Trainable params: 1,568,576\n",
      "Non-trainable params: 0\n",
      "_________________________________________________________________\n"
     ]
    }
   ],
   "source": [
    "front = DeepLab_Front()\n",
    "front.summary()"
   ]
  },
  {
   "cell_type": "code",
   "execution_count": 22,
   "metadata": {},
   "outputs": [],
   "source": [
    "''' write down codes here '''\n",
    "#conv_with_dilation_rate2 = ...\n",
    "#conv_with_dilation_rate4 = ...\n",
    "#conv_with_dilation_rate8 = ...\n",
    "#conv_with_dilation_rate16 = ..."
   ]
  },
  {
   "cell_type": "code",
   "execution_count": 23,
   "metadata": {},
   "outputs": [],
   "source": [
    "feature_map = front(x)\n",
    "feature_map_rate2 = conv_with_dilation_rate2(feature_map)\n",
    "feature_map_rate4 = conv_with_dilation_rate4(feature_map)\n",
    "feature_map_rate8 = conv_with_dilation_rate8(feature_map)\n",
    "feature_map_rate16 = conv_with_dilation_rate16(feature_map)"
   ]
  },
  {
   "cell_type": "code",
   "execution_count": 24,
   "metadata": {},
   "outputs": [
    {
     "data": {
      "text/plain": [
       "<tf.Tensor 'concat_1:0' shape=(1, 14, 14, 2048) dtype=float32>"
      ]
     },
     "execution_count": 24,
     "metadata": {},
     "output_type": "execute_result"
    }
   ],
   "source": [
    "sppp = tf.concat([feature_map_rate2, feature_map_rate4, feature_map_rate8, feature_map_rate16], axis=3)\n",
    "sppp"
   ]
  },
  {
   "cell_type": "markdown",
   "metadata": {},
   "source": [
    "---"
   ]
  },
  {
   "cell_type": "markdown",
   "metadata": {},
   "source": [
    "# Quiz 7 : Building toy Unet\n",
    "\n",
    "![unet](simple_unet.png)\n",
    "\n",
    "## Instruction\n",
    "implement a simple U-Net module using `ds`, `upsample`, and `deconv` module"
   ]
  },
  {
   "cell_type": "code",
   "execution_count": 25,
   "metadata": {},
   "outputs": [],
   "source": [
    "def UNet_layer3(x):\n",
    "    \n",
    "    ds = layers.MaxPooling2D((2, 2))\n",
    "    upsample = layers.UpSampling2D((2, 2))\n",
    "    deconv = layers.Conv2DTranspose(3, (3, 3), activation='relu', strides=2, padding='same')\n",
    "    \n",
    "    out = ds(x)\n",
    "    out_up = upsample(out)\n",
    "    out_large = deconv(out)\n",
    "    out = tf.concat([out_up, out_large], axis=3)\n",
    "    return out"
   ]
  },
  {
   "cell_type": "code",
   "execution_count": 26,
   "metadata": {},
   "outputs": [
    {
     "data": {
      "text/plain": [
       "<tf.Tensor 'concat_2:0' shape=(1, 224, 224, 6) dtype=float32>"
      ]
     },
     "execution_count": 26,
     "metadata": {},
     "output_type": "execute_result"
    }
   ],
   "source": [
    "UNet_layer3(x)"
   ]
  }
 ],
 "metadata": {
  "kernelspec": {
   "display_name": "Python 3",
   "language": "python",
   "name": "python3"
  },
  "language_info": {
   "codemirror_mode": {
    "name": "ipython",
    "version": 3
   },
   "file_extension": ".py",
   "mimetype": "text/x-python",
   "name": "python",
   "nbconvert_exporter": "python",
   "pygments_lexer": "ipython3",
   "version": "3.6.8"
  }
 },
 "nbformat": 4,
 "nbformat_minor": 2
}
